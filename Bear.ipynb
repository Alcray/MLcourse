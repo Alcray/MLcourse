{
 "cells": [
  {
   "cell_type": "code",
   "execution_count": 1,
   "metadata": {
    "colab": {
     "base_uri": "https://localhost:8080/"
    },
    "id": "OH0OmHi5_v86",
    "outputId": "aa777197-8770-4b62-8efa-4cf40114f512"
   },
   "outputs": [
    {
     "ename": "ModuleNotFoundError",
     "evalue": "No module named 'fastai'",
     "output_type": "error",
     "traceback": [
      "\u001b[0;31m---------------------------------------------------------------------------\u001b[0m",
      "\u001b[0;31mModuleNotFoundError\u001b[0m                       Traceback (most recent call last)",
      "\u001b[0;32m<ipython-input-1-a6a2d3df3c3f>\u001b[0m in \u001b[0;36m<module>\u001b[0;34m\u001b[0m\n\u001b[1;32m      1\u001b[0m \u001b[0;31m#!pip install -Uqq fastbook\u001b[0m\u001b[0;34m\u001b[0m\u001b[0;34m\u001b[0m\u001b[0;34m\u001b[0m\u001b[0m\n\u001b[0;32m----> 2\u001b[0;31m \u001b[0;32mfrom\u001b[0m \u001b[0mfastai\u001b[0m\u001b[0;34m.\u001b[0m\u001b[0mvision\u001b[0m\u001b[0;34m.\u001b[0m\u001b[0mall\u001b[0m \u001b[0;32mimport\u001b[0m \u001b[0;34m*\u001b[0m\u001b[0;34m\u001b[0m\u001b[0;34m\u001b[0m\u001b[0m\n\u001b[0m\u001b[1;32m      3\u001b[0m \u001b[0;32mfrom\u001b[0m \u001b[0mfastai\u001b[0m\u001b[0;34m.\u001b[0m\u001b[0mvision\u001b[0m\u001b[0;34m.\u001b[0m\u001b[0mwidgets\u001b[0m \u001b[0;32mimport\u001b[0m \u001b[0;34m*\u001b[0m\u001b[0;34m\u001b[0m\u001b[0;34m\u001b[0m\u001b[0m\n\u001b[1;32m      4\u001b[0m \u001b[0;32mimport\u001b[0m \u001b[0murlib\u001b[0m\u001b[0;34m.\u001b[0m\u001b[0mrequest\u001b[0m\u001b[0;34m\u001b[0m\u001b[0;34m\u001b[0m\u001b[0m\n",
      "\u001b[0;31mModuleNotFoundError\u001b[0m: No module named 'fastai'"
     ]
    }
   ],
   "source": [
    "#!pip install -Uqq fastbook\n",
    "from fastai.vision.all import *\n",
    "from fastai.vision.widgets import *\n",
    "import urlib.request"
   ]
  },
  {
   "cell_type": "code",
   "execution_count": 1,
   "metadata": {},
   "outputs": [
    {
     "name": "stdout",
     "output_type": "stream",
     "text": [
      "Bear.ipynb bear.jpeg  export.pkl\r\n"
     ]
    }
   ],
   "source": [
    "!Voilà with --show_tracebacks=True"
   ]
  },
  {
   "cell_type": "code",
   "execution_count": 11,
   "metadata": {
    "colab": {
     "base_uri": "https://localhost:8080/"
    },
    "id": "GtvuueWgGuxE",
    "outputId": "550b176a-6f02-4b01-e978-b072ea4551d0"
   },
   "outputs": [
    {
     "name": "stdout",
     "output_type": "stream",
     "text": [
      "export.pkl  \u001b[0m\u001b[01;34msample_data\u001b[0m/\n"
     ]
    }
   ],
   "source": [
    "#ls"
   ]
  },
  {
   "cell_type": "code",
   "execution_count": 12,
   "metadata": {
    "id": "yyMvuS7LAcmx"
   },
   "outputs": [],
   "source": [
    "path = Path()\n",
    "#learn_inf = load_learner(path/'export.pkl', cpu = True)\n",
    "learn_inf = load_learner(path/'export.pkl', cpu = True)\n",
    "btn_upload = widgets.FileUpload()\n",
    "out_pl = widgets.Output()\n",
    "lbl_pred = widgets.Label()\n",
    "btn_run = widgets.Button(description='Classify')"
   ]
  },
  {
   "cell_type": "code",
   "execution_count": 13,
   "metadata": {
    "id": "Adg-_5OpAH9v"
   },
   "outputs": [],
   "source": [
    "def on_click_classify(change):\n",
    "    img = PILImage.create(btn_upload.data[-1])\n",
    "    out_pl.clear_output()\n",
    "    with out_pl: display(img.to_thumb(128,128))\n",
    "    pred,pred_idx,probs = learn_inf.predict(img)\n",
    "    lbl_pred.value = f'Prediction: {pred}; Probability: {probs[pred_idx]:.04f}'\n",
    "\n",
    "btn_run.on_click(on_click_classify)"
   ]
  },
  {
   "cell_type": "code",
   "execution_count": null,
   "metadata": {
    "id": "C_bxhg4PEujG"
   },
   "outputs": [],
   "source": [
    "#btn_upload.observe(on_click, names = 'data')"
   ]
  },
  {
   "cell_type": "code",
   "execution_count": 14,
   "metadata": {
    "colab": {
     "base_uri": "https://localhost:8080/",
     "height": 266,
     "referenced_widgets": [
      "2406efdf3bbd4b50b3eb09c95e3aede1",
      "951b39332e83474aad30b2ab4904834c",
      "3ed2d7f5508342048fd5e2767a582129",
      "f15ac369b7e549829578e1e580d099c9",
      "c6f8f262c9394eb9813e47dedd9c49ec",
      "deee4a25c1cf4f918fd933a20996b90d",
      "f25431d7e9b04825bf3555a4f8fd0b9d",
      "32d5650ede5a40a08f2d1320b66ec87b",
      "540fb35a9ee44aa3ba1e2371f3a9770f",
      "0a1bbab08a334192a50a6b4a954e7b41",
      "69a129a70612412ea45b82c0835fc45a",
      "8558e98deada453f99281e030407b8b1",
      "7ade29e6050d4a88976f1328ffec3d49",
      "67873c2478764d2aada89af4fc33a2a7",
      "008c607346aa4c9c96599fea6c9c9877",
      "5c9ab133fdca4d2796316998bf496e86"
     ]
    },
    "id": "y3e3JV-fAyt4",
    "outputId": "e350c269-1252-4da0-94ac-0fa16e6f4d5a"
   },
   "outputs": [
    {
     "data": {
      "application/vnd.jupyter.widget-view+json": {
       "model_id": "2406efdf3bbd4b50b3eb09c95e3aede1",
       "version_major": 2,
       "version_minor": 0
      },
      "text/plain": [
       "VBox(children=(Label(value='Select your bear!'), FileUpload(value={}, description='Upload'), Button(descriptio…"
      ]
     },
     "metadata": {},
     "output_type": "display_data"
    },
    {
     "data": {
      "text/html": [],
      "text/plain": [
       "<IPython.core.display.HTML object>"
      ]
     },
     "metadata": {},
     "output_type": "display_data"
    },
    {
     "name": "stderr",
     "output_type": "stream",
     "text": [
      "/usr/local/lib/python3.7/dist-packages/torch/nn/functional.py:718: UserWarning: Named tensors and all their associated APIs are an experimental feature and subject to change. Please do not use them for anything important until they are released as stable. (Triggered internally at  /pytorch/c10/core/TensorImpl.h:1156.)\n",
      "  return torch.max_pool2d(input, kernel_size, stride, padding, dilation, ceil_mode)\n"
     ]
    }
   ],
   "source": [
    "display(VBox([widgets.Label('Select your bear!'), \n",
    "      btn_upload, btn_run, out_pl, lbl_pred]))"
   ]
  }
 ],
 "metadata": {
  "colab": {
   "name": "Bear.ipynb",
   "provenance": []
  },
  "kernelspec": {
   "display_name": "Python 3",
   "language": "python",
   "name": "python3"
  },
  "language_info": {
   "codemirror_mode": {
    "name": "ipython",
    "version": 3
   },
   "file_extension": ".py",
   "mimetype": "text/x-python",
   "name": "python",
   "nbconvert_exporter": "python",
   "pygments_lexer": "ipython3",
   "version": "3.8.8"
  },
  "widgets": {
   "application/vnd.jupyter.widget-state+json": {
    "008c607346aa4c9c96599fea6c9c9877": {
     "model_module": "@jupyter-widgets/base",
     "model_module_version": "1.2.0",
     "model_name": "LayoutModel",
     "state": {
      "_model_module": "@jupyter-widgets/base",
      "_model_module_version": "1.2.0",
      "_model_name": "LayoutModel",
      "_view_count": null,
      "_view_module": "@jupyter-widgets/base",
      "_view_module_version": "1.2.0",
      "_view_name": "LayoutView",
      "align_content": null,
      "align_items": null,
      "align_self": null,
      "border": null,
      "bottom": null,
      "display": null,
      "flex": null,
      "flex_flow": null,
      "grid_area": null,
      "grid_auto_columns": null,
      "grid_auto_flow": null,
      "grid_auto_rows": null,
      "grid_column": null,
      "grid_gap": null,
      "grid_row": null,
      "grid_template_areas": null,
      "grid_template_columns": null,
      "grid_template_rows": null,
      "height": null,
      "justify_content": null,
      "justify_items": null,
      "left": null,
      "margin": null,
      "max_height": null,
      "max_width": null,
      "min_height": null,
      "min_width": null,
      "object_fit": null,
      "object_position": null,
      "order": null,
      "overflow": null,
      "overflow_x": null,
      "overflow_y": null,
      "padding": null,
      "right": null,
      "top": null,
      "visibility": null,
      "width": null
     }
    },
    "0a1bbab08a334192a50a6b4a954e7b41": {
     "model_module": "@jupyter-widgets/controls",
     "model_module_version": "1.5.0",
     "model_name": "ButtonStyleModel",
     "state": {
      "_model_module": "@jupyter-widgets/controls",
      "_model_module_version": "1.5.0",
      "_model_name": "ButtonStyleModel",
      "_view_count": null,
      "_view_module": "@jupyter-widgets/base",
      "_view_module_version": "1.2.0",
      "_view_name": "StyleView",
      "button_color": null,
      "font_weight": ""
     }
    },
    "2406efdf3bbd4b50b3eb09c95e3aede1": {
     "model_module": "@jupyter-widgets/controls",
     "model_module_version": "1.5.0",
     "model_name": "VBoxModel",
     "state": {
      "_dom_classes": [],
      "_model_module": "@jupyter-widgets/controls",
      "_model_module_version": "1.5.0",
      "_model_name": "VBoxModel",
      "_view_count": null,
      "_view_module": "@jupyter-widgets/controls",
      "_view_module_version": "1.5.0",
      "_view_name": "VBoxView",
      "box_style": "",
      "children": [
       "IPY_MODEL_3ed2d7f5508342048fd5e2767a582129",
       "IPY_MODEL_f15ac369b7e549829578e1e580d099c9",
       "IPY_MODEL_c6f8f262c9394eb9813e47dedd9c49ec",
       "IPY_MODEL_deee4a25c1cf4f918fd933a20996b90d",
       "IPY_MODEL_f25431d7e9b04825bf3555a4f8fd0b9d"
      ],
      "layout": "IPY_MODEL_951b39332e83474aad30b2ab4904834c"
     }
    },
    "32d5650ede5a40a08f2d1320b66ec87b": {
     "model_module": "@jupyter-widgets/controls",
     "model_module_version": "1.5.0",
     "model_name": "DescriptionStyleModel",
     "state": {
      "_model_module": "@jupyter-widgets/controls",
      "_model_module_version": "1.5.0",
      "_model_name": "DescriptionStyleModel",
      "_view_count": null,
      "_view_module": "@jupyter-widgets/base",
      "_view_module_version": "1.2.0",
      "_view_name": "StyleView",
      "description_width": ""
     }
    },
    "3ed2d7f5508342048fd5e2767a582129": {
     "model_module": "@jupyter-widgets/controls",
     "model_module_version": "1.5.0",
     "model_name": "LabelModel",
     "state": {
      "_dom_classes": [],
      "_model_module": "@jupyter-widgets/controls",
      "_model_module_version": "1.5.0",
      "_model_name": "LabelModel",
      "_view_count": null,
      "_view_module": "@jupyter-widgets/controls",
      "_view_module_version": "1.5.0",
      "_view_name": "LabelView",
      "description": "",
      "description_tooltip": null,
      "layout": "IPY_MODEL_540fb35a9ee44aa3ba1e2371f3a9770f",
      "placeholder": "​",
      "style": "IPY_MODEL_32d5650ede5a40a08f2d1320b66ec87b",
      "value": "Select your bear!"
     }
    },
    "540fb35a9ee44aa3ba1e2371f3a9770f": {
     "model_module": "@jupyter-widgets/base",
     "model_module_version": "1.2.0",
     "model_name": "LayoutModel",
     "state": {
      "_model_module": "@jupyter-widgets/base",
      "_model_module_version": "1.2.0",
      "_model_name": "LayoutModel",
      "_view_count": null,
      "_view_module": "@jupyter-widgets/base",
      "_view_module_version": "1.2.0",
      "_view_name": "LayoutView",
      "align_content": null,
      "align_items": null,
      "align_self": null,
      "border": null,
      "bottom": null,
      "display": null,
      "flex": null,
      "flex_flow": null,
      "grid_area": null,
      "grid_auto_columns": null,
      "grid_auto_flow": null,
      "grid_auto_rows": null,
      "grid_column": null,
      "grid_gap": null,
      "grid_row": null,
      "grid_template_areas": null,
      "grid_template_columns": null,
      "grid_template_rows": null,
      "height": null,
      "justify_content": null,
      "justify_items": null,
      "left": null,
      "margin": null,
      "max_height": null,
      "max_width": null,
      "min_height": null,
      "min_width": null,
      "object_fit": null,
      "object_position": null,
      "order": null,
      "overflow": null,
      "overflow_x": null,
      "overflow_y": null,
      "padding": null,
      "right": null,
      "top": null,
      "visibility": null,
      "width": null
     }
    },
    "5c9ab133fdca4d2796316998bf496e86": {
     "model_module": "@jupyter-widgets/base",
     "model_module_version": "1.2.0",
     "model_name": "LayoutModel",
     "state": {
      "_model_module": "@jupyter-widgets/base",
      "_model_module_version": "1.2.0",
      "_model_name": "LayoutModel",
      "_view_count": null,
      "_view_module": "@jupyter-widgets/base",
      "_view_module_version": "1.2.0",
      "_view_name": "LayoutView",
      "align_content": null,
      "align_items": null,
      "align_self": null,
      "border": null,
      "bottom": null,
      "display": null,
      "flex": null,
      "flex_flow": null,
      "grid_area": null,
      "grid_auto_columns": null,
      "grid_auto_flow": null,
      "grid_auto_rows": null,
      "grid_column": null,
      "grid_gap": null,
      "grid_row": null,
      "grid_template_areas": null,
      "grid_template_columns": null,
      "grid_template_rows": null,
      "height": null,
      "justify_content": null,
      "justify_items": null,
      "left": null,
      "margin": null,
      "max_height": null,
      "max_width": null,
      "min_height": null,
      "min_width": null,
      "object_fit": null,
      "object_position": null,
      "order": null,
      "overflow": null,
      "overflow_x": null,
      "overflow_y": null,
      "padding": null,
      "right": null,
      "top": null,
      "visibility": null,
      "width": null
     }
    },
    "67873c2478764d2aada89af4fc33a2a7": {
     "model_module": "@jupyter-widgets/controls",
     "model_module_version": "1.5.0",
     "model_name": "DescriptionStyleModel",
     "state": {
      "_model_module": "@jupyter-widgets/controls",
      "_model_module_version": "1.5.0",
      "_model_name": "DescriptionStyleModel",
      "_view_count": null,
      "_view_module": "@jupyter-widgets/base",
      "_view_module_version": "1.2.0",
      "_view_name": "StyleView",
      "description_width": ""
     }
    },
    "69a129a70612412ea45b82c0835fc45a": {
     "model_module": "@jupyter-widgets/base",
     "model_module_version": "1.2.0",
     "model_name": "LayoutModel",
     "state": {
      "_model_module": "@jupyter-widgets/base",
      "_model_module_version": "1.2.0",
      "_model_name": "LayoutModel",
      "_view_count": null,
      "_view_module": "@jupyter-widgets/base",
      "_view_module_version": "1.2.0",
      "_view_name": "LayoutView",
      "align_content": null,
      "align_items": null,
      "align_self": null,
      "border": null,
      "bottom": null,
      "display": null,
      "flex": null,
      "flex_flow": null,
      "grid_area": null,
      "grid_auto_columns": null,
      "grid_auto_flow": null,
      "grid_auto_rows": null,
      "grid_column": null,
      "grid_gap": null,
      "grid_row": null,
      "grid_template_areas": null,
      "grid_template_columns": null,
      "grid_template_rows": null,
      "height": null,
      "justify_content": null,
      "justify_items": null,
      "left": null,
      "margin": null,
      "max_height": null,
      "max_width": null,
      "min_height": null,
      "min_width": null,
      "object_fit": null,
      "object_position": null,
      "order": null,
      "overflow": null,
      "overflow_x": null,
      "overflow_y": null,
      "padding": null,
      "right": null,
      "top": null,
      "visibility": null,
      "width": null
     }
    },
    "7ade29e6050d4a88976f1328ffec3d49": {
     "model_module": "@jupyter-widgets/base",
     "model_module_version": "1.2.0",
     "model_name": "LayoutModel",
     "state": {
      "_model_module": "@jupyter-widgets/base",
      "_model_module_version": "1.2.0",
      "_model_name": "LayoutModel",
      "_view_count": null,
      "_view_module": "@jupyter-widgets/base",
      "_view_module_version": "1.2.0",
      "_view_name": "LayoutView",
      "align_content": null,
      "align_items": null,
      "align_self": null,
      "border": null,
      "bottom": null,
      "display": null,
      "flex": null,
      "flex_flow": null,
      "grid_area": null,
      "grid_auto_columns": null,
      "grid_auto_flow": null,
      "grid_auto_rows": null,
      "grid_column": null,
      "grid_gap": null,
      "grid_row": null,
      "grid_template_areas": null,
      "grid_template_columns": null,
      "grid_template_rows": null,
      "height": null,
      "justify_content": null,
      "justify_items": null,
      "left": null,
      "margin": null,
      "max_height": null,
      "max_width": null,
      "min_height": null,
      "min_width": null,
      "object_fit": null,
      "object_position": null,
      "order": null,
      "overflow": null,
      "overflow_x": null,
      "overflow_y": null,
      "padding": null,
      "right": null,
      "top": null,
      "visibility": null,
      "width": null
     }
    },
    "8558e98deada453f99281e030407b8b1": {
     "model_module": "@jupyter-widgets/controls",
     "model_module_version": "1.5.0",
     "model_name": "ButtonStyleModel",
     "state": {
      "_model_module": "@jupyter-widgets/controls",
      "_model_module_version": "1.5.0",
      "_model_name": "ButtonStyleModel",
      "_view_count": null,
      "_view_module": "@jupyter-widgets/base",
      "_view_module_version": "1.2.0",
      "_view_name": "StyleView",
      "button_color": null,
      "font_weight": ""
     }
    },
    "951b39332e83474aad30b2ab4904834c": {
     "model_module": "@jupyter-widgets/base",
     "model_module_version": "1.2.0",
     "model_name": "LayoutModel",
     "state": {
      "_model_module": "@jupyter-widgets/base",
      "_model_module_version": "1.2.0",
      "_model_name": "LayoutModel",
      "_view_count": null,
      "_view_module": "@jupyter-widgets/base",
      "_view_module_version": "1.2.0",
      "_view_name": "LayoutView",
      "align_content": null,
      "align_items": null,
      "align_self": null,
      "border": null,
      "bottom": null,
      "display": null,
      "flex": null,
      "flex_flow": null,
      "grid_area": null,
      "grid_auto_columns": null,
      "grid_auto_flow": null,
      "grid_auto_rows": null,
      "grid_column": null,
      "grid_gap": null,
      "grid_row": null,
      "grid_template_areas": null,
      "grid_template_columns": null,
      "grid_template_rows": null,
      "height": null,
      "justify_content": null,
      "justify_items": null,
      "left": null,
      "margin": null,
      "max_height": null,
      "max_width": null,
      "min_height": null,
      "min_width": null,
      "object_fit": null,
      "object_position": null,
      "order": null,
      "overflow": null,
      "overflow_x": null,
      "overflow_y": null,
      "padding": null,
      "right": null,
      "top": null,
      "visibility": null,
      "width": null
     }
    },
    "c6f8f262c9394eb9813e47dedd9c49ec": {
     "model_module": "@jupyter-widgets/controls",
     "model_module_version": "1.5.0",
     "model_name": "ButtonModel",
     "state": {
      "_dom_classes": [],
      "_model_module": "@jupyter-widgets/controls",
      "_model_module_version": "1.5.0",
      "_model_name": "ButtonModel",
      "_view_count": null,
      "_view_module": "@jupyter-widgets/controls",
      "_view_module_version": "1.5.0",
      "_view_name": "ButtonView",
      "button_style": "",
      "description": "Classify",
      "disabled": false,
      "icon": "",
      "layout": "IPY_MODEL_7ade29e6050d4a88976f1328ffec3d49",
      "style": "IPY_MODEL_8558e98deada453f99281e030407b8b1",
      "tooltip": ""
     }
    },
    "deee4a25c1cf4f918fd933a20996b90d": {
     "model_module": "@jupyter-widgets/output",
     "model_module_version": "1.0.0",
     "model_name": "OutputModel",
     "state": {
      "_dom_classes": [],
      "_model_module": "@jupyter-widgets/output",
      "_model_module_version": "1.0.0",
      "_model_name": "OutputModel",
      "_view_count": null,
      "_view_module": "@jupyter-widgets/output",
      "_view_module_version": "1.0.0",
      "_view_name": "OutputView",
      "layout": "IPY_MODEL_5c9ab133fdca4d2796316998bf496e86",
      "msg_id": "",
      "outputs": [
       {
        "data": {
         "image/png": "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\n",
         "text/plain": "<PIL.Image.Image image mode=RGB size=128x67 at 0x7F4ED34950D0>"
        },
        "metadata": {},
        "output_type": "display_data"
       }
      ]
     }
    },
    "f15ac369b7e549829578e1e580d099c9": {
     "model_module": "@jupyter-widgets/controls",
     "model_module_version": "1.5.0",
     "model_name": "FileUploadModel",
     "state": {
      "_counter": 1,
      "_dom_classes": [],
      "_model_module": "@jupyter-widgets/controls",
      "_model_module_version": "1.5.0",
      "_model_name": "FileUploadModel",
      "_view_count": null,
      "_view_module": "@jupyter-widgets/controls",
      "_view_module_version": "1.5.0",
      "_view_name": "FileUploadView",
      "accept": "",
      "button_style": "",
      "data": [
       null
      ],
      "description": "Upload",
      "description_tooltip": null,
      "disabled": false,
      "error": "",
      "icon": "upload",
      "layout": "IPY_MODEL_69a129a70612412ea45b82c0835fc45a",
      "metadata": [
       {
        "lastModified": 1634119178102,
        "name": "bear.jpeg",
        "size": 72071,
        "type": "image/jpeg"
       }
      ],
      "multiple": false,
      "style": "IPY_MODEL_0a1bbab08a334192a50a6b4a954e7b41"
     }
    },
    "f25431d7e9b04825bf3555a4f8fd0b9d": {
     "model_module": "@jupyter-widgets/controls",
     "model_module_version": "1.5.0",
     "model_name": "LabelModel",
     "state": {
      "_dom_classes": [],
      "_model_module": "@jupyter-widgets/controls",
      "_model_module_version": "1.5.0",
      "_model_name": "LabelModel",
      "_view_count": null,
      "_view_module": "@jupyter-widgets/controls",
      "_view_module_version": "1.5.0",
      "_view_name": "LabelView",
      "description": "",
      "description_tooltip": null,
      "layout": "IPY_MODEL_008c607346aa4c9c96599fea6c9c9877",
      "placeholder": "​",
      "style": "IPY_MODEL_67873c2478764d2aada89af4fc33a2a7",
      "value": "Prediction: grizzly; Probability: 0.9999"
     }
    }
   }
  }
 },
 "nbformat": 4,
 "nbformat_minor": 1
}
